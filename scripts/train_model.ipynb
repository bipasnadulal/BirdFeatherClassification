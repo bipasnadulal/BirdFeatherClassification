{
 "cells": [
  {
   "cell_type": "code",
   "execution_count": null,
   "metadata": {},
   "outputs": [],
   "source": [
    "! pip install numpy"
   ]
  },
  {
   "cell_type": "code",
   "execution_count": null,
   "metadata": {},
   "outputs": [],
   "source": [
    "pip show pydot\n"
   ]
  },
  {
   "cell_type": "code",
   "execution_count": null,
   "metadata": {},
   "outputs": [],
   "source": [
    "pip show graphviz"
   ]
  },
  {
   "cell_type": "markdown",
   "metadata": {},
   "source": [
    "#### Load dataset\n"
   ]
  },
  {
   "cell_type": "code",
   "execution_count": 1,
   "metadata": {},
   "outputs": [
    {
     "name": "stdout",
     "output_type": "stream",
     "text": [
      "X_train shape: (23814, 128, 128, 3), y_train shape: (23814,)\n",
      "X_val shape: (5096, 128, 128, 3), y_val shape: (5096,)\n",
      "X_test shape: (5130, 128, 128, 3), y_test shape: (5130,)\n"
     ]
    }
   ],
   "source": [
    "import numpy as np\n",
    "import os\n",
    "\n",
    "def load_npz_files(directory):\n",
    "    images = []\n",
    "    labels = []\n",
    "\n",
    "    for file_name in os.listdir(directory):\n",
    "        if file_name.endswith(\".npz\"):\n",
    "            file_path = os.path.join(directory, file_name)\n",
    "            data = np.load(file_path)\n",
    "\n",
    "            # Extract images and labels using the correct keys\n",
    "            images.append(data['images'])  # Images are stored under the 'images' key\n",
    "            labels.append(data['labels'])  # Labels are stored under the 'labels' key\n",
    "\n",
    "    # Concatenate the images and labels from all batches\n",
    "    X = np.concatenate(images, axis=0)\n",
    "    y = np.concatenate(labels, axis=0)\n",
    "\n",
    "    return X, y\n",
    "\n",
    "# Load data from .npz files\n",
    "train_dir = r\"D:\\BirdFeatherClassification\\dataset\\split_data\\preprocessed_data\\train\"\n",
    "val_dir = r\"D:\\BirdFeatherClassification\\dataset\\split_data\\preprocessed_data\\val\"\n",
    "test_dir = r\"D:\\BirdFeatherClassification\\dataset\\split_data\\preprocessed_data\\test\"\n",
    "\n",
    "X_train, y_train = load_npz_files(train_dir)\n",
    "X_val, y_val = load_npz_files(val_dir)\n",
    "X_test, y_test = load_npz_files(test_dir)\n",
    "\n",
    "# Check the shapes of the loaded data\n",
    "print(f\"X_train shape: {X_train.shape}, y_train shape: {y_train.shape}\")\n",
    "print(f\"X_val shape: {X_val.shape}, y_val shape: {y_val.shape}\")\n",
    "print(f\"X_test shape: {X_test.shape}, y_test shape: {y_test.shape}\")\n"
   ]
  },
  {
   "cell_type": "code",
   "execution_count": null,
   "metadata": {},
   "outputs": [],
   "source": [
    "import keras\n",
    "# from keras.applications import MobileNetV2\n",
    "# from keras.models import Model, Sequential\n",
    "from keras import layers\n",
    "\n",
    "num_classes = 12  # Replace with the actual number of classes\n",
    "\n",
    "# Load Pretrained MobileNetV2 without the top layers\n",
    "base_model = keras.applications.MobileNetV2(input_shape=(128, 128, 3), include_top=False, weights=\"imagenet\")\n",
    "base_model.trainable = False  # Freeze base model layers\n",
    "\n",
    "# Global Average Pooling layer (MUST be included to flatten the output)\n",
    "x = layers.GlobalAveragePooling2D()(base_model.output)  # Converts (4,4,1280) -> (1280,)\n",
    "\n",
    "# Fully connected layer\n",
    "x = layers.Dense(256, activation='relu')(x)\n",
    "x = layers.Dropout(0.5)(x)\n",
    "\n",
    "# Custom CNN Head\n",
    "custom_head = keras.Sequential([\n",
    "    layers.Dense(256, activation='relu'),  # Replacing CNN layers with FC layers\n",
    "    layers.Dropout(0.5),\n",
    "    layers.Dense(num_classes, activation='softmax')  # Multi-class classification\n",
    "])\n",
    "\n",
    "# Apply Custom Head\n",
    "outputs = custom_head(x)\n",
    "\n",
    "# Define Final Model\n",
    "model = keras.Model(inputs=base_model.input, outputs=outputs)\n",
    "\n",
    "# Show Model Summary\n",
    "model.summary()\n"
   ]
  },
  {
   "cell_type": "code",
   "execution_count": null,
   "metadata": {},
   "outputs": [],
   "source": [
    "import keras\n",
    "from keras import layers, models\n",
    "\n",
    "num_classes = 12 \n",
    "\n",
    "# Define a custom CNN model\n",
    "model = models.Sequential([\n",
    "    # Convolutional Block 1\n",
    "    layers.Conv2D(32, (3, 3), activation='relu', padding='same', input_shape=(128, 128, 3)),\n",
    "    layers.BatchNormalization(),\n",
    "    layers.MaxPooling2D((2, 2)),\n",
    "    \n",
    "    # Convolutional Block 2\n",
    "    layers.Conv2D(64, (3, 3), activation='relu', padding='same'),\n",
    "    layers.BatchNormalization(),\n",
    "    layers.MaxPooling2D((2, 2)),\n",
    "    \n",
    "    # Convolutional Block 3\n",
    "    layers.Conv2D(128, (3, 3), activation='relu', padding='same'),\n",
    "    layers.BatchNormalization(),\n",
    "    layers.MaxPooling2D((2, 2)),\n",
    "\n",
    "    # Convolutional Block 4\n",
    "    layers.Conv2D(256, (3, 3), activation='relu', padding='same'),\n",
    "    layers.BatchNormalization(),\n",
    "    layers.MaxPooling2D((2, 2)),\n",
    "    \n",
    "    # Flatten and Fully Connected Layers\n",
    "    layers.Flatten(),\n",
    "    layers.Dense(512, activation='relu'),\n",
    "    layers.Dropout(0.5),  # Regularization\n",
    "    layers.Dense(256, activation='relu'),\n",
    "    layers.Dropout(0.3),  \n",
    "    layers.Dense(num_classes, activation='softmax')  # Output Layer\n",
    "])\n",
    "\n",
    "# model summary\n",
    "model.summary()\n"
   ]
  },
  {
   "cell_type": "code",
   "execution_count": null,
   "metadata": {},
   "outputs": [],
   "source": [
    "import keras\n",
    "import tensorflow as tf\n",
    "import os\n",
    "os.environ[\"PATH\"] += os.pathsep + r\"C:\\Program Files\\Graphviz\\bin\"\n",
    "tf.keras.utils.plot_model(model)"
   ]
  },
  {
   "cell_type": "code",
   "execution_count": 6,
   "metadata": {},
   "outputs": [
    {
     "name": "stdout",
     "output_type": "stream",
     "text": [
      "Shape of y_train: (23814, 12)\n",
      "Shape of y_val: (5096, 12)\n",
      "Shape of y_test: (5130, 12)\n"
     ]
    }
   ],
   "source": [
    "from tensorflow.keras.utils import to_categorical\n",
    "\n",
    "# One-hot encode labels for training, validation, and test sets\n",
    "y_train = to_categorical(y_train, num_classes=num_classes)\n",
    "y_val = to_categorical(y_val, num_classes=num_classes)\n",
    "y_test = to_categorical(y_test, num_classes=num_classes)\n",
    "\n",
    "print(\"Shape of y_train:\", y_train.shape)\n",
    "print(\"Shape of y_val:\", y_val.shape)\n",
    "print(\"Shape of y_test:\", y_test.shape)\n"
   ]
  },
  {
   "cell_type": "code",
   "execution_count": 7,
   "metadata": {},
   "outputs": [],
   "source": [
    "import tensorflow as tf\n",
    "model.compile(\n",
    "    optimizer=tf.keras.optimizers.Adam(learning_rate=0.001),\n",
    "    loss=\"categorical_crossentropy\",\n",
    "    metrics=[\"accuracy\"]\n",
    ")\n"
   ]
  },
  {
   "cell_type": "code",
   "execution_count": 8,
   "metadata": {},
   "outputs": [],
   "source": [
    "import tensorflow as tf\n",
    "tf.config.run_functions_eagerly(True)\n"
   ]
  },
  {
   "cell_type": "code",
   "execution_count": null,
   "metadata": {},
   "outputs": [],
   "source": [
    "from keras.callbacks import EarlyStopping\n",
    "\n",
    "# EarlyStopping callback\n",
    "early_stopping = EarlyStopping(monitor='val_loss',  # Or 'val_accuracy'\n",
    "                               patience=3,           # Number of epochs with no improvement before stopping\n",
    "                               restore_best_weights=True,  # Restore model weights from the best epoch\n",
    "                               verbose=1)  # Print a message when early stopping is triggered\n",
    "\n",
    "# Fit the model with early stopping\n",
    "history = model.fit(X_train, y_train, \n",
    "                    epochs=10, \n",
    "                    batch_size=32, \n",
    "                    validation_data=(X_val, y_val),\n",
    "                    callbacks=[early_stopping])\n"
   ]
  },
  {
   "cell_type": "code",
   "execution_count": null,
   "metadata": {},
   "outputs": [],
   "source": []
  },
  {
   "cell_type": "code",
   "execution_count": 10,
   "metadata": {},
   "outputs": [
    {
     "name": "stdout",
     "output_type": "stream",
     "text": [
      "\u001b[1m161/161\u001b[0m \u001b[32m━━━━━━━━━━━━━━━━━━━━\u001b[0m\u001b[37m\u001b[0m \u001b[1m26s\u001b[0m 162ms/step - accuracy: 0.9677 - loss: 0.1035\n",
      "Test Accuracy: 0.9536, Test Loss: 0.1467\n"
     ]
    }
   ],
   "source": [
    "test_loss, test_accuracy = model.evaluate(X_test, y_test)\n",
    "print(f\"Test Accuracy: {test_accuracy:.4f}, Test Loss: {test_loss:.4f}\")\n"
   ]
  },
  {
   "cell_type": "code",
   "execution_count": null,
   "metadata": {},
   "outputs": [],
   "source": [
    "import matplotlib.pyplot as plt\n",
    "\n",
    "# Extract data from history\n",
    "epochs = range(1, len(history.history[\"accuracy\"]) + 1)\n",
    "train_acc = history.history[\"accuracy\"]\n",
    "val_acc = history.history[\"val_accuracy\"]\n",
    "train_loss = history.history[\"loss\"]\n",
    "val_loss = history.history[\"val_loss\"]\n",
    "\n",
    "# Plot Accuracy\n",
    "plt.figure(figsize=(12, 5))\n",
    "plt.subplot(1, 2, 1)\n",
    "plt.plot(epochs, train_acc, 'bo-', label=\"Training Accuracy\")\n",
    "plt.plot(epochs, val_acc, 'ro-', label=\"Validation Accuracy\")\n",
    "plt.xlabel(\"Epochs\")\n",
    "plt.ylabel(\"Accuracy\")\n",
    "plt.title(\"Training vs Validation Accuracy\")\n",
    "plt.legend()\n",
    "plt.grid()\n",
    "\n",
    "# Plot Loss\n",
    "plt.subplot(1, 2, 2)\n",
    "plt.plot(epochs, train_loss, 'bo-', label=\"Training Loss\")\n",
    "plt.plot(epochs, val_loss, 'ro-', label=\"Validation Loss\")\n",
    "plt.xlabel(\"Epochs\")\n",
    "plt.ylabel(\"Loss\")\n",
    "plt.title(\"Training vs Validation Loss\")\n",
    "plt.legend()\n",
    "plt.grid()\n",
    "\n",
    "plt.tight_layout()\n",
    "plt.show()\n"
   ]
  },
  {
   "cell_type": "code",
   "execution_count": null,
   "metadata": {},
   "outputs": [],
   "source": [
    "from sklearn.metrics import confusion_matrix, classification_report\n",
    "import seaborn as sns\n",
    "\n",
    "# Assuming you have y_test (true labels) and y_pred (predicted labels)\n",
    "y_pred = model.predict(X_test).argmax(axis=1)  # Convert probabilities to class indices\n",
    "y_true = y_test.argmax(axis=1)  # Convert one-hot labels to class indices\n",
    "\n",
    "# Confusion Matrix\n",
    "cm = confusion_matrix(y_true, y_pred)\n",
    "plt.figure(figsize=(8,6))\n",
    "sns.heatmap(cm, annot=True, fmt=\"d\", cmap=\"Blues\")\n",
    "plt.xlabel(\"Predicted Label\")\n",
    "plt.ylabel(\"True Label\")\n",
    "plt.title(\"Confusion Matrix\")\n",
    "plt.show()\n",
    "\n",
    "# Classification Report\n",
    "print(classification_report(y_true, y_pred))\n"
   ]
  },
  {
   "cell_type": "code",
   "execution_count": 13,
   "metadata": {},
   "outputs": [
    {
     "name": "stderr",
     "output_type": "stream",
     "text": [
      "WARNING:absl:You are saving your model as an HDF5 file via `model.save()` or `keras.saving.save_model(model)`. This file format is considered legacy. We recommend using instead the native Keras format, e.g. `model.save('my_model.keras')` or `keras.saving.save_model(model, 'my_model.keras')`. \n"
     ]
    }
   ],
   "source": [
    "# model.save(\"BirdFeatherClassificationTrainedModel.h5\")  # Save as an HDF5 file\n",
    "import os\n",
    "\n",
    "# Define the directory\n",
    "model_dir = r\"D:\\BirdFeatherClassification\\model\"\n",
    "\n",
    "# Create the directory if it doesn't exist\n",
    "if not os.path.exists(model_dir):\n",
    "    os.makedirs(model_dir)\n",
    "\n",
    "# Save the model in the 'model' directory\n",
    "model.save(os.path.join(model_dir, \"BirdFeatherClassificationTrainedModel1.h5\"))\n"
   ]
  },
  {
   "cell_type": "code",
   "execution_count": 14,
   "metadata": {},
   "outputs": [],
   "source": [
    "import numpy as np\n",
    "# Save training history\n",
    "np.save(\"D:/BirdFeatherClassification/model/training_history1.npy\", history.history)\n"
   ]
  }
 ],
 "metadata": {
  "kernelspec": {
   "display_name": "dl_project",
   "language": "python",
   "name": "python3"
  },
  "language_info": {
   "codemirror_mode": {
    "name": "ipython",
    "version": 3
   },
   "file_extension": ".py",
   "mimetype": "text/x-python",
   "name": "python",
   "nbconvert_exporter": "python",
   "pygments_lexer": "ipython3",
   "version": "3.11.11"
  }
 },
 "nbformat": 4,
 "nbformat_minor": 2
}
